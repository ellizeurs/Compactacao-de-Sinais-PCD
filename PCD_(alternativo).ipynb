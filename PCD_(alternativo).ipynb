{
  "nbformat": 4,
  "nbformat_minor": 0,
  "metadata": {
    "colab": {
      "provenance": [],
      "authorship_tag": "ABX9TyNTq6GQti+w2EKXwXNFPIcd",
      "include_colab_link": true
    },
    "kernelspec": {
      "name": "python3",
      "display_name": "Python 3"
    },
    "language_info": {
      "name": "python"
    }
  },
  "cells": [
    {
      "cell_type": "markdown",
      "metadata": {
        "id": "view-in-github",
        "colab_type": "text"
      },
      "source": [
        "<a href=\"https://colab.research.google.com/github/ellizeurs/Compactacao-de-Sinais-PCD/blob/master/PCD_(alternativo).ipynb\" target=\"_parent\"><img src=\"https://colab.research.google.com/assets/colab-badge.svg\" alt=\"Open In Colab\"/></a>"
      ]
    },
    {
      "cell_type": "code",
      "execution_count": 59,
      "metadata": {
        "id": "T2nDaLgrCVS1"
      },
      "outputs": [],
      "source": [
        "import numpy as np\n",
        "import matplotlib.pyplot as plt\n",
        "from mpl_toolkits.mplot3d import Axes3D\n",
        "from sklearn.model_selection import train_test_split\n",
        "from sklearn.preprocessing import StandardScaler\n",
        "from sklearn.datasets import load_iris\n",
        "from sklearn.metrics import accuracy_score, precision_score, recall_score, f1_score\n",
        "import tensorflow as tf"
      ]
    },
    {
      "cell_type": "code",
      "source": [
        "def plot_data(x, y):\n",
        "    n_dims = x.shape[1]  # Determina a dimensão dos dados\n",
        "\n",
        "    if n_dims == 1:  # Plot 1D\n",
        "        plt.figure(figsize=(8, 6))\n",
        "        for i, category in enumerate(np.unique(y)):\n",
        "            plt.scatter(x[y == category], np.full(np.sum(y == category), 0), label=f'Category {category}')\n",
        "        plt.xlabel('Valor de X')\n",
        "        plt.ylabel('Categoria')\n",
        "        plt.title('Plot dos Dados X com Categorias')\n",
        "        plt.yticks(np.arange(len(np.unique(y))), np.unique(y))\n",
        "        plt.legend()\n",
        "        plt.grid(True)\n",
        "        plt.show()\n",
        "\n",
        "    elif n_dims == 2:  # Plot 2D\n",
        "        plt.figure(figsize=(8, 6))\n",
        "        for i, category in enumerate(np.unique(y)):\n",
        "            plt.scatter(x[y == category][:, 0], x[y == category][:, 1], label=f'Category {category}')\n",
        "        plt.xlabel('Coordenada X')\n",
        "        plt.ylabel('Coordenada Y')\n",
        "        plt.title('Plot dos Dados X e Y com Categorias')\n",
        "        plt.legend()\n",
        "        plt.grid(True)\n",
        "        plt.show()\n",
        "\n",
        "    elif n_dims == 3:  # Plot 3D\n",
        "        fig = plt.figure(figsize=(8, 6))\n",
        "        ax = fig.add_subplot(111, projection='3d')\n",
        "        for i, category in enumerate(np.unique(y)):\n",
        "            ax.scatter(x[y == category][:, 0], x[y == category][:, 1], x[y == category][:, 2], label=f'Category {category}')\n",
        "        ax.set_xlabel('X Label')\n",
        "        ax.set_ylabel('Y Label')\n",
        "        ax.set_zlabel('Z Label')\n",
        "        plt.title('Plot dos Dados X, Y e Z com Categorias')\n",
        "        plt.legend()\n",
        "        plt.grid(True)\n",
        "        plt.show()\n",
        "\n",
        "    else:\n",
        "        print(\"Não é possível plotar dados com mais de 3 dimensões.\")"
      ],
      "metadata": {
        "id": "OorcXZmlXtW0"
      },
      "execution_count": null,
      "outputs": []
    },
    {
      "cell_type": "code",
      "source": [
        "# Carregar o conjunto de dados Iris\n",
        "iris = load_iris()\n",
        "X = iris.data\n",
        "y = iris.target\n",
        "\n",
        "# Dividir o conjunto de dados em treino e teste\n",
        "X_train, X_test, y_train, y_test = train_test_split(X, y, test_size=0.2, random_state=42)\n",
        "\n",
        "# Normalizar os dados\n",
        "scaler = StandardScaler()\n",
        "X_train = scaler.fit_transform(X_train)\n",
        "X_test = scaler.transform(X_test)"
      ],
      "metadata": {
        "id": "3y8ONHjdbtBk"
      },
      "execution_count": null,
      "outputs": []
    },
    {
      "cell_type": "code",
      "source": [
        "class PcdModel():\n",
        "    def __init__(self, input_shape, seed_value, verbose=False):\n",
        "        self.models = {}\n",
        "        self.components_weights = {}\n",
        "        self.input_shape = input_shape\n",
        "        self.seed_value = seed_value\n",
        "        self.verbose = verbose\n",
        "\n",
        "    def get_model(self, n_component):\n",
        "        if self.verbose:\n",
        "            print('Building model')\n",
        "        if n_component in self.models:\n",
        "            return self.models[n_component]\n",
        "\n",
        "        img = tf.keras.layers.Input(shape=self.input_shape)\n",
        "        to_be_concatenated_layers = []\n",
        "\n",
        "        if n_component != 1:\n",
        "            # Adding already trained layers\n",
        "            if self.verbose:\n",
        "                print('Adding old components')\n",
        "            for i in range(1, n_component):\n",
        "                component_layer = tf.keras.layers.Dense(\n",
        "                    1,\n",
        "                    kernel_initializer=tf.keras.initializers.he_normal(seed=self.seed_value),\n",
        "                    bias_initializer=tf.keras.initializers.zeros(),\n",
        "                    activation=\"relu\"\n",
        "                )(img)\n",
        "                to_be_concatenated_layers.append(component_layer)\n",
        "\n",
        "        # Adding new layer\n",
        "        if self.verbose:\n",
        "            print('Adding new component')\n",
        "        component_layer = tf.keras.layers.Dense(\n",
        "            1,\n",
        "            kernel_initializer=tf.keras.initializers.he_normal(seed=self.seed_value),\n",
        "            bias_initializer=tf.keras.initializers.zeros(),\n",
        "            activation=\"relu\"\n",
        "        )(img)\n",
        "        to_be_concatenated_layers.append(component_layer)\n",
        "\n",
        "        # Actually \"classification\" part\n",
        "        if len(to_be_concatenated_layers) > 1:\n",
        "            concat = tf.keras.layers.Concatenate()(to_be_concatenated_layers)\n",
        "            flatten = tf.keras.layers.Flatten()(concat)\n",
        "        else:\n",
        "            flatten = tf.keras.layers.Flatten()(component_layer)\n",
        "\n",
        "        dense_layer_2 = tf.keras.layers.Dense(3, activation='softmax')(flatten)\n",
        "\n",
        "        # Creating model\n",
        "        self.models[n_component] = tf.keras.models.Model(img, dense_layer_2)\n",
        "\n",
        "        if n_component != 1:\n",
        "            # Freezing\n",
        "            if self.verbose:\n",
        "                print('Freezing')\n",
        "            for i in range(1, n_component):\n",
        "                self.models[n_component].layers[i].set_weights(self.components_weights[i])\n",
        "                self.models[n_component].layers[i].trainable = False\n",
        "        if self.verbose:\n",
        "            print('Model built')\n",
        "        return self.models[n_component]\n",
        "\n",
        "    def update_weights(self, n_component):\n",
        "        # Saving weight\n",
        "        self.components_weights[n_component] = self.models[n_component].layers[n_component].get_weights()\n",
        "\n",
        "    def transform(self, X, n_component):\n",
        "        model = self.models[n_component]\n",
        "        hidden_layers_outputs = []\n",
        "        for i in range(1, n_component + 1):\n",
        "            layer_output = tf.keras.backend.function([model.input], [model.layers[i].output])\n",
        "            hidden_layers_outputs.append(layer_output([X])[0])\n",
        "        return np.concatenate(hidden_layers_outputs, axis=1)"
      ],
      "metadata": {
        "id": "xF9veCEsbqw3"
      },
      "execution_count": null,
      "outputs": []
    },
    {
      "cell_type": "code",
      "source": [
        "# Função para calcular as métricas\n",
        "def calculate_metrics(model, X_test, y_test):\n",
        "    y_pred = model.predict(X_test).argmax(axis=1)\n",
        "    metrics = {\n",
        "        'accuracy': accuracy_score(y_test, y_pred),\n",
        "        'precision': precision_score(y_test, y_pred, average='macro', zero_division=0),\n",
        "        'recall': recall_score(y_test, y_pred, average='macro', zero_division=0),\n",
        "        'f1_score': f1_score(y_test, y_pred, average='macro', zero_division=0)\n",
        "    }\n",
        "    return metrics"
      ],
      "metadata": {
        "id": "NZOzmmv-bobp"
      },
      "execution_count": null,
      "outputs": []
    },
    {
      "cell_type": "code",
      "source": [
        "# Treinamento e avaliação\n",
        "n_components = 5  # Número de componentes PCD\n",
        "input_shape = (X_train.shape[1],)\n",
        "seed_value = 10\n",
        "\n",
        "pcd_model = PcdModel(input_shape, seed_value)\n",
        "\n",
        "for i in range(1, n_components + 1):\n",
        "    model = pcd_model.get_model(i)\n",
        "    model.compile(optimizer='adam', loss='sparse_categorical_crossentropy', metrics=['accuracy'])\n",
        "    model.fit(X_train, y_train, epochs=100, batch_size=16, verbose=0)\n",
        "    pcd_model.update_weights(i)\n",
        "    if i <= 3:\n",
        "      X_pcd = pcd_model.transform(X, i)\n",
        "      plot_data(X_pcd, y)\n",
        "    metrics = calculate_metrics(model, X_test, y_test)\n",
        "    print(f'Component {i}: {metrics}')"
      ],
      "metadata": {
        "id": "JC-qrd3cbk6y"
      },
      "execution_count": null,
      "outputs": []
    }
  ]
}